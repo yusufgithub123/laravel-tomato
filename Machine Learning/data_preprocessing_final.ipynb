{
  "nbformat": 4,
  "nbformat_minor": 0,
  "metadata": {
    "colab": {
      "provenance": []
    },
    "kernelspec": {
      "name": "python3",
      "display_name": "Python 3"
    },
    "language_info": {
      "name": "python"
    }
  },
  "cells": [
    {
      "cell_type": "code",
      "execution_count": 5,
      "metadata": {
        "id": "yLJfWU7wsna_"
      },
      "outputs": [],
      "source": [
        "import pandas as pd\n",
        "import os\n",
        "import shutil\n",
        "from tqdm.notebook import tqdm as tq\n",
        "import pathlib\n",
        "import gdown\n",
        "import zipfile\n",
        "import numpy as np\n",
        "import random\n",
        "import matplotlib.pyplot as plt\n",
        "from sklearn.model_selection import train_test_split"
      ]
    },
    {
      "cell_type": "code",
      "source": [
        "# ID file Google Drive\n",
        "file_id = '1dQ3pnNXX0u4fcYK_80Ovz0DU37lgNTbV'\n",
        "zip_name = 'combine_data.zip'\n",
        "\n",
        "# Download file dari Google Drive\n",
        "gdown.download(f'https://drive.google.com/uc?id={file_id}', zip_name, quiet=False)\n",
        "\n",
        "# Buat folder untuk ekstrak\n",
        "extract_path = 'combine_data'\n",
        "os.makedirs(extract_path, exist_ok=True)\n",
        "\n",
        "# Ekstrak ZIP\n",
        "with zipfile.ZipFile(zip_name, 'r') as zip_ref:\n",
        "    zip_ref.extractall(extract_path)\n",
        "\n",
        "# Lihat isi folder\n",
        "os.listdir(extract_path)\n"
      ],
      "metadata": {
        "colab": {
          "base_uri": "https://localhost:8080/"
        },
        "id": "VSOQzVnhsrtL",
        "outputId": "40344471-b65c-4b51-f829-990e08684a2b"
      },
      "execution_count": 2,
      "outputs": [
        {
          "output_type": "stream",
          "name": "stderr",
          "text": [
            "Downloading...\n",
            "From (original): https://drive.google.com/uc?id=1dQ3pnNXX0u4fcYK_80Ovz0DU37lgNTbV\n",
            "From (redirected): https://drive.google.com/uc?id=1dQ3pnNXX0u4fcYK_80Ovz0DU37lgNTbV&confirm=t&uuid=44c8419b-7e5e-4e05-a273-81a2eb82716d\n",
            "To: /content/combine_data.zip\n",
            "100%|\u2588\u2588\u2588\u2588\u2588\u2588\u2588\u2588\u2588\u2588| 1.78G/1.78G [00:27<00:00, 63.6MB/s]\n"
          ]
        },
        {
          "output_type": "execute_result",
          "data": {
            "text/plain": [
              "['Virus_keriting_daun_kuning',\n",
              " 'Bercak_daun_Septoria',\n",
              " 'Bercak_bakteri',\n",
              " 'Tungau_dua_bercak',\n",
              " 'Bercak_target',\n",
              " 'Jamur_daun',\n",
              " 'Sehat',\n",
              " 'Virus_mosaik_tomat',\n",
              " 'Embun_tepung',\n",
              " 'Busuk_daun_awal',\n",
              " 'Busuk_daun_lanjut']"
            ]
          },
          "metadata": {},
          "execution_count": 2
        }
      ]
    },
    {
      "cell_type": "code",
      "source": [
        "mypath = \"combine_data\"\n",
        "\n",
        "file_name = []\n",
        "labels = []\n",
        "full_path = []\n",
        "for path, subdirs, files in os.walk(mypath):\n",
        "    for name in files:\n",
        "        full_path.append(os.path.join(path, name))\n",
        "        labels.append(path.split('/')[-1])\n",
        "        file_name.append(name)\n",
        "\n",
        "df = pd.DataFrame({\"path\":full_path,'file_name':file_name,\"labels\":labels})\n",
        "df.groupby(['labels']).size()"
      ],
      "metadata": {
        "colab": {
          "base_uri": "https://localhost:8080/",
          "height": 460
        },
        "id": "1gO3NlMSstdF",
        "outputId": "e22d9c6c-d917-4f17-a572-95e2a52dbb96"
      },
      "execution_count": 3,
      "outputs": [
        {
          "output_type": "execute_result",
          "data": {
            "text/plain": [
              "labels\n",
              "Bercak_bakteri                3858\n",
              "Bercak_daun_Septoria          3878\n",
              "Bercak_target                 3884\n",
              "Busuk_daun_awal               3898\n",
              "Busuk_daun_lanjut             3905\n",
              "Embun_tepung                  3906\n",
              "Jamur_daun                    3893\n",
              "Sehat                         3856\n",
              "Tungau_dua_bercak             3882\n",
              "Virus_keriting_daun_kuning    3837\n",
              "Virus_mosaik_tomat            3887\n",
              "dtype: int64"
            ],
            "text/html": [
              "<div>\n",
              "<style scoped>\n",
              "    .dataframe tbody tr th:only-of-type {\n",
              "        vertical-align: middle;\n",
              "    }\n",
              "\n",
              "    .dataframe tbody tr th {\n",
              "        vertical-align: top;\n",
              "    }\n",
              "\n",
              "    .dataframe thead th {\n",
              "        text-align: right;\n",
              "    }\n",
              "</style>\n",
              "<table border=\"1\" class=\"dataframe\">\n",
              "  <thead>\n",
              "    <tr style=\"text-align: right;\">\n",
              "      <th></th>\n",
              "      <th>0</th>\n",
              "    </tr>\n",
              "    <tr>\n",
              "      <th>labels</th>\n",
              "      <th></th>\n",
              "    </tr>\n",
              "  </thead>\n",
              "  <tbody>\n",
              "    <tr>\n",
              "      <th>Bercak_bakteri</th>\n",
              "      <td>3858</td>\n",
              "    </tr>\n",
              "    <tr>\n",
              "      <th>Bercak_daun_Septoria</th>\n",
              "      <td>3878</td>\n",
              "    </tr>\n",
              "    <tr>\n",
              "      <th>Bercak_target</th>\n",
              "      <td>3884</td>\n",
              "    </tr>\n",
              "    <tr>\n",
              "      <th>Busuk_daun_awal</th>\n",
              "      <td>3898</td>\n",
              "    </tr>\n",
              "    <tr>\n",
              "      <th>Busuk_daun_lanjut</th>\n",
              "      <td>3905</td>\n",
              "    </tr>\n",
              "    <tr>\n",
              "      <th>Embun_tepung</th>\n",
              "      <td>3906</td>\n",
              "    </tr>\n",
              "    <tr>\n",
              "      <th>Jamur_daun</th>\n",
              "      <td>3893</td>\n",
              "    </tr>\n",
              "    <tr>\n",
              "      <th>Sehat</th>\n",
              "      <td>3856</td>\n",
              "    </tr>\n",
              "    <tr>\n",
              "      <th>Tungau_dua_bercak</th>\n",
              "      <td>3882</td>\n",
              "    </tr>\n",
              "    <tr>\n",
              "      <th>Virus_keriting_daun_kuning</th>\n",
              "      <td>3837</td>\n",
              "    </tr>\n",
              "    <tr>\n",
              "      <th>Virus_mosaik_tomat</th>\n",
              "      <td>3887</td>\n",
              "    </tr>\n",
              "  </tbody>\n",
              "</table>\n",
              "</div><br><label><b>dtype:</b> int64</label>"
            ]
          },
          "metadata": {},
          "execution_count": 3
        }
      ]
    },
    {
      "cell_type": "code",
      "source": [
        "def plot_class_distribution(dataset_dir):\n",
        "    \"\"\"Menampilkan grafik distribusi jumlah gambar per kelas.\"\"\"\n",
        "    class_counts = {}\n",
        "\n",
        "    for class_name in os.listdir(dataset_dir):\n",
        "        class_dir = os.path.join(dataset_dir, class_name)\n",
        "        if os.path.isdir(class_dir):\n",
        "            num_images = len([\n",
        "                f for f in os.listdir(class_dir)\n",
        "                if os.path.isfile(os.path.join(class_dir, f))\n",
        "            ])\n",
        "            class_counts[class_name] = num_images\n",
        "\n",
        "    # Plotting\n",
        "    plt.figure(figsize=(10, 6))\n",
        "    plt.bar(class_counts.keys(), class_counts.values(), color='skyblue')\n",
        "    plt.title('Distribusi Gambar per Kelas di original_data')\n",
        "    plt.xlabel('Kelas')\n",
        "    plt.ylabel('Jumlah Gambar')\n",
        "    plt.xticks(rotation=45)\n",
        "    plt.tight_layout()\n",
        "    plt.show()\n",
        "\n",
        "# Tampilkan grafik\n",
        "plot_class_distribution('combine_data')"
      ],
      "metadata": {
        "colab": {
          "base_uri": "https://localhost:8080/",
          "height": 607
        },
        "id": "5oDdO3Mf4U5V",
        "outputId": "1802c73e-8189-4349-9c8c-a1db0a885dc7"
      },
      "execution_count": 6,
      "outputs": [
        {
          "output_type": "display_data",
          "data": {
            "text/plain": [
              "<Figure size 1000x600 with 1 Axes>"
            ],
            "image/png": "[encoded data removed]"
          },
          "metadata": {}
        }
      ]
    },
    {
      "cell_type": "code",
      "source": [
        "df.info()"
      ],
      "metadata": {
        "colab": {
          "base_uri": "https://localhost:8080/"
        },
        "id": "0dSKzDNvsvVU",
        "outputId": "3d118b16-a5ed-41ed-90d4-b7d9ed601dd4"
      },
      "execution_count": 7,
      "outputs": [
        {
          "output_type": "stream",
          "name": "stdout",
          "text": [
            "<class 'pandas.core.frame.DataFrame'>\n",
            "RangeIndex: 42684 entries, 0 to 42683\n",
            "Data columns (total 3 columns):\n",
            " #   Column     Non-Null Count  Dtype \n",
            "---  ------     --------------  ----- \n",
            " 0   path       42684 non-null  object\n",
            " 1   file_name  42684 non-null  object\n",
            " 2   labels     42684 non-null  object\n",
            "dtypes: object(3)\n",
            "memory usage: 1000.5+ KB\n"
          ]
        }
      ]
    },
    {
      "cell_type": "code",
      "source": [
        "X= df['path']\n",
        "y= df['labels']\n",
        "\n",
        "#Split Data Training:Validation:Testing = 70:15:15\n",
        "\n",
        "# Split 15% untuk test\n",
        "X_temp, X_test, y_temp, y_test = train_test_split(X, y, test_size=0.15, stratify=y, random_state=42)\n",
        "\n",
        "# Dari 85% data sisa, ambil 15/85 \u2248 0.176 untuk validation, sisanya jadi train\n",
        "X_train, X_val, y_train, y_val = train_test_split(X_temp, y_temp, test_size=0.176, stratify=y_temp, random_state=42)\n"
      ],
      "metadata": {
        "id": "Pn-65I7Sswji"
      },
      "execution_count": 8,
      "outputs": []
    },
    {
      "cell_type": "code",
      "source": [
        "df_tr = pd.DataFrame({'path': X_train, 'labels': y_train, 'set': 'train'})\n",
        "df_val = pd.DataFrame({'path': X_val, 'labels': y_val, 'set': 'val'})\n",
        "df_te = pd.DataFrame({'path': X_test, 'labels': y_test, 'set': 'test'})\n",
        "\n",
        "df_all = pd.concat([df_tr, df_val, df_te]).reset_index(drop=True)"
      ],
      "metadata": {
        "id": "Myru82bJsx4l"
      },
      "execution_count": 9,
      "outputs": []
    },
    {
      "cell_type": "code",
      "source": [
        "# Print hasil untuk melihat panjang size data training, validation, dan testing\n",
        "print('Train size:', len(df_tr))\n",
        "print('Validation size:', len(df_val))\n",
        "print('Test size:', len(df_te))\n"
      ],
      "metadata": {
        "colab": {
          "base_uri": "https://localhost:8080/"
        },
        "id": "nZ8MRF6kszvD",
        "outputId": "401bbf33-0400-4288-e6a8-8492c36d54a2"
      },
      "execution_count": 10,
      "outputs": [
        {
          "output_type": "stream",
          "name": "stdout",
          "text": [
            "Train size: 29895\n",
            "Validation size: 6386\n",
            "Test size: 6403\n"
          ]
        }
      ]
    },
    {
      "cell_type": "code",
      "source": [
        "# Gabungkan semuanya menjadi satu DataFrame akhir\n",
        "df_all = pd.concat([df_tr, df_val, df_te]).reset_index(drop=True)"
      ],
      "metadata": {
        "id": "KEL5rnmEs1fd"
      },
      "execution_count": 11,
      "outputs": []
    },
    {
      "cell_type": "code",
      "source": [
        "# Gabungkan DataFrame df_tr, df_val, dan df_te\n",
        "df_all = pd.concat([df_tr, df_val, df_te], ignore_index=True)\n",
        "\n",
        "print('===================================================== \\n')\n",
        "print(df_all.groupby(['set', 'labels']).size(), '\\n')\n",
        "print('===================================================== \\n')\n",
        "\n",
        "# Cek sample data\n",
        "print(df_all.sample(5))\n"
      ],
      "metadata": {
        "colab": {
          "base_uri": "https://localhost:8080/"
        },
        "id": "TNxVd_R9s2qq",
        "outputId": "8dde5061-4d90-44a2-b3f4-74734d06cb85"
      },
      "execution_count": 12,
      "outputs": [
        {
          "output_type": "stream",
          "name": "stdout",
          "text": [
            "===================================================== \n",
            "\n",
            "set    labels                    \n",
            "test   Bercak_bakteri                 579\n",
            "       Bercak_daun_Septoria           582\n",
            "       Bercak_target                  583\n",
            "       Busuk_daun_awal                585\n",
            "       Busuk_daun_lanjut              586\n",
            "       Embun_tepung                   586\n",
            "       Jamur_daun                     584\n",
            "       Sehat                          578\n",
            "       Tungau_dua_bercak              582\n",
            "       Virus_keriting_daun_kuning     575\n",
            "       Virus_mosaik_tomat             583\n",
            "train  Bercak_bakteri                2702\n",
            "       Bercak_daun_Septoria          2716\n",
            "       Bercak_target                 2720\n",
            "       Busuk_daun_awal               2730\n",
            "       Busuk_daun_lanjut             2735\n",
            "       Embun_tepung                  2736\n",
            "       Jamur_daun                    2726\n",
            "       Sehat                         2701\n",
            "       Tungau_dua_bercak             2719\n",
            "       Virus_keriting_daun_kuning    2688\n",
            "       Virus_mosaik_tomat            2722\n",
            "val    Bercak_bakteri                 577\n",
            "       Bercak_daun_Septoria           580\n",
            "       Bercak_target                  581\n",
            "       Busuk_daun_awal                583\n",
            "       Busuk_daun_lanjut              584\n",
            "       Embun_tepung                   584\n",
            "       Jamur_daun                     583\n",
            "       Sehat                          577\n",
            "       Tungau_dua_bercak              581\n",
            "       Virus_keriting_daun_kuning     574\n",
            "       Virus_mosaik_tomat             582\n",
            "dtype: int64 \n",
            "\n",
            "===================================================== \n",
            "\n",
            "                                                    path  \\\n",
            "31016  combine_data/Bercak_target/a873d860-abf2-4cce-...   \n",
            "2434        combine_data/Busuk_daun_lanjut/LB_ (382).jpg   \n",
            "23201  combine_data/Bercak_daun_Septoria/256b92d9-41f...   \n",
            "14985                    combine_data/Sehat/HL_(179).png   \n",
            "41563  combine_data/Bercak_daun_Septoria/2aeb1e96-775...   \n",
            "\n",
            "                     labels    set  \n",
            "31016         Bercak_target    val  \n",
            "2434      Busuk_daun_lanjut  train  \n",
            "23201  Bercak_daun_Septoria  train  \n",
            "14985                 Sehat  train  \n",
            "41563  Bercak_daun_Septoria   test  \n"
          ]
        }
      ]
    },
    {
      "cell_type": "code",
      "source": [
        "datasource_path = \"combine_data\"\n",
        "dataset_path = \"Dataset-Final/\""
      ],
      "metadata": {
        "id": "vTgD03Uls4bT"
      },
      "execution_count": 13,
      "outputs": []
    },
    {
      "cell_type": "code",
      "source": [
        "for index, row in tq(df_all.iterrows()):\n",
        "    # Deteksi filepath\n",
        "    file_path = row['path']\n",
        "    if os.path.exists(file_path) == False:\n",
        "      file_path = os.path.join(datasource_path,row['labels'],row['image'].split('.')[0])\n",
        "\n",
        "    # Buat direktori tujuan folder\n",
        "    if os.path.exists(os.path.join(dataset_path,row['set'],row['labels'])) == False:\n",
        "        os.makedirs(os.path.join(dataset_path,row['set'],row['labels']))\n",
        "\n",
        "    # Tentukan tujuan file\n",
        "    destination_file_name = file_path.split('/')[-1]\n",
        "    file_dest = os.path.join(dataset_path,row['set'],row['labels'],destination_file_name)\n",
        "\n",
        "    # Salin file dari sumber ke tujuan\n",
        "    if os.path.exists(file_dest) == False:\n",
        "        shutil.copy2(file_path,file_dest)"
      ],
      "metadata": {
        "colab": {
          "base_uri": "https://localhost:8080/",
          "height": 49,
          "referenced_widgets": [
            "99464c0722394630b0be00c300bce1eb",
            "be0de8244e36470080cb00944850276a",
            "2223089cf99f44f582b1ecf2e9f93205",
            "cad7516062ae442bb0c13e5b64991673",
            "0a374399fbf94623a394a3b61c2e2389",
            "2e33b993c42d45cc8770a8ba7d7e70ec",
            "823c1094fb004441976271bab72c49a9",
            "d50304d63b9d49a3bd4c3bcb679be7e1",
            "0cc1ae2117d54c3b9f5bc42bb5e56e08",
            "83a37cd5e2454751876f086caf636608",
            "b60c1a4463e64617adc10f11947b32ad"
          ]
        },
        "id": "uuvv2BD5s53t",
        "outputId": "8a7f4bfc-ce8f-4a82-8ced-f8a62ac536f7"
      },
      "execution_count": 14,
      "outputs": [
        {
          "output_type": "display_data",
          "data": {
            "text/plain": [
              "0it [00:00, ?it/s]"
            ],
            "application/vnd.jupyter.widget-view+json": {
              "version_major": 2,
              "version_minor": 0,
              "model_id": "99464c0722394630b0be00c300bce1eb"
            }
          },
          "metadata": {}
        }
      ]
    },
    {
      "cell_type": "code",
      "source": [
        "# Buat file zip dari folder combine_data\n",
        "shutil.make_archive('Dataset-Final', 'zip', 'Dataset-Final')"
      ],
      "metadata": {
        "colab": {
          "base_uri": "https://localhost:8080/",
          "height": 36
        },
        "id": "unyTmdPZvU_F",
        "outputId": "f3032195-95b6-46f2-a8a2-775a236ae6d9"
      },
      "execution_count": 15,
      "outputs": [
        {
          "output_type": "execute_result",
          "data": {
            "text/plain": [
              "'/content/Dataset-Final.zip'"
            ],
            "application/vnd.google.colaboratory.intrinsic+json": {
              "type": "string"
            }
          },
          "metadata": {},
          "execution_count": 15
        }
      ]
    }
  ]
}